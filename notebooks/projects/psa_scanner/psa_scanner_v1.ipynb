{
 "cells": [
  {
   "cell_type": "code",
   "execution_count": 1,
   "metadata": {},
   "outputs": [],
   "source": [
    "%load_ext autoreload\n",
    "%autoreload 2\n",
    "\n",
    "import codebase_settings as cbs\n",
    "from psa_scanner import data_loader "
   ]
  },
  {
   "cell_type": "code",
   "execution_count": 2,
   "metadata": {},
   "outputs": [],
   "source": [
    "_RAWDATA_FILE = cbs.DATA_PATH / 'psa_scanner' / 'ProstateRTCohort_updated.xlsx'"
   ]
  },
  {
   "cell_type": "code",
   "execution_count": 71,
   "metadata": {},
   "outputs": [
    {
     "name": "stdout",
     "output_type": "stream",
     "text": [
      "Identified 42 possible time points in the original data.\n",
      "Start to build time sequence for ('date_after_rt_t', 'psa_t') ...\n"
     ]
    },
    {
     "name": "stderr",
     "output_type": "stream",
     "text": [
      "/roapps/robopt/gpu/m195381/ro_codebase/preprocessor/tabular/utils.py:48: PerformanceWarning: DataFrame is highly fragmented.  This is usually the result of calling `frame.insert` many times, which has poor performance.  Consider joining all columns at once using pd.concat(axis=1) instead. To get a de-fragmented frame, use `newframe = frame.copy()`\n",
      "  df[name + '_gradient'] = df[name + '_delta'].div(df[name + '_timediff'])\n",
      "/roapps/robopt/gpu/m195381/ro_codebase/preprocessor/tabular/utils.py:25: PerformanceWarning: DataFrame is highly fragmented.  This is usually the result of calling `frame.insert` many times, which has poor performance.  Consider joining all columns at once using pd.concat(axis=1) instead. To get a de-fragmented frame, use `newframe = frame.copy()`\n",
      "  df[name] = (deltaT / pd.Timedelta(days=1)).round()\n",
      "/roapps/robopt/gpu/m195381/ro_codebase/preprocessor/tabular/utils.py:47: PerformanceWarning: DataFrame is highly fragmented.  This is usually the result of calling `frame.insert` many times, which has poor performance.  Consider joining all columns at once using pd.concat(axis=1) instead. To get a de-fragmented frame, use `newframe = frame.copy()`\n",
      "  df[name + '_delta'] = (df[end_value] - df[start_value]).astype(float)\n",
      "/roapps/robopt/gpu/m195381/ro_codebase/preprocessor/tabular/utils.py:48: PerformanceWarning: DataFrame is highly fragmented.  This is usually the result of calling `frame.insert` many times, which has poor performance.  Consider joining all columns at once using pd.concat(axis=1) instead. To get a de-fragmented frame, use `newframe = frame.copy()`\n",
      "  df[name + '_gradient'] = df[name + '_delta'].div(df[name + '_timediff'])\n",
      "/roapps/robopt/gpu/m195381/ro_codebase/preprocessor/tabular/utils.py:25: PerformanceWarning: DataFrame is highly fragmented.  This is usually the result of calling `frame.insert` many times, which has poor performance.  Consider joining all columns at once using pd.concat(axis=1) instead. To get a de-fragmented frame, use `newframe = frame.copy()`\n",
      "  df[name] = (deltaT / pd.Timedelta(days=1)).round()\n",
      "/roapps/robopt/gpu/m195381/ro_codebase/preprocessor/tabular/utils.py:47: PerformanceWarning: DataFrame is highly fragmented.  This is usually the result of calling `frame.insert` many times, which has poor performance.  Consider joining all columns at once using pd.concat(axis=1) instead. To get a de-fragmented frame, use `newframe = frame.copy()`\n",
      "  df[name + '_delta'] = (df[end_value] - df[start_value]).astype(float)\n",
      "/roapps/robopt/gpu/m195381/ro_codebase/preprocessor/tabular/utils.py:48: PerformanceWarning: DataFrame is highly fragmented.  This is usually the result of calling `frame.insert` many times, which has poor performance.  Consider joining all columns at once using pd.concat(axis=1) instead. To get a de-fragmented frame, use `newframe = frame.copy()`\n",
      "  df[name + '_gradient'] = df[name + '_delta'].div(df[name + '_timediff'])\n",
      "/roapps/robopt/gpu/m195381/ro_codebase/preprocessor/tabular/utils.py:25: PerformanceWarning: DataFrame is highly fragmented.  This is usually the result of calling `frame.insert` many times, which has poor performance.  Consider joining all columns at once using pd.concat(axis=1) instead. To get a de-fragmented frame, use `newframe = frame.copy()`\n",
      "  df[name] = (deltaT / pd.Timedelta(days=1)).round()\n",
      "/roapps/robopt/gpu/m195381/ro_codebase/preprocessor/tabular/utils.py:47: PerformanceWarning: DataFrame is highly fragmented.  This is usually the result of calling `frame.insert` many times, which has poor performance.  Consider joining all columns at once using pd.concat(axis=1) instead. To get a de-fragmented frame, use `newframe = frame.copy()`\n",
      "  df[name + '_delta'] = (df[end_value] - df[start_value]).astype(float)\n",
      "/roapps/robopt/gpu/m195381/ro_codebase/preprocessor/tabular/utils.py:48: PerformanceWarning: DataFrame is highly fragmented.  This is usually the result of calling `frame.insert` many times, which has poor performance.  Consider joining all columns at once using pd.concat(axis=1) instead. To get a de-fragmented frame, use `newframe = frame.copy()`\n",
      "  df[name + '_gradient'] = df[name + '_delta'].div(df[name + '_timediff'])\n",
      "/roapps/robopt/gpu/m195381/ro_codebase/preprocessor/tabular/utils.py:25: PerformanceWarning: DataFrame is highly fragmented.  This is usually the result of calling `frame.insert` many times, which has poor performance.  Consider joining all columns at once using pd.concat(axis=1) instead. To get a de-fragmented frame, use `newframe = frame.copy()`\n",
      "  df[name] = (deltaT / pd.Timedelta(days=1)).round()\n",
      "/roapps/robopt/gpu/m195381/ro_codebase/preprocessor/tabular/utils.py:47: PerformanceWarning: DataFrame is highly fragmented.  This is usually the result of calling `frame.insert` many times, which has poor performance.  Consider joining all columns at once using pd.concat(axis=1) instead. To get a de-fragmented frame, use `newframe = frame.copy()`\n",
      "  df[name + '_delta'] = (df[end_value] - df[start_value]).astype(float)\n",
      "/roapps/robopt/gpu/m195381/ro_codebase/preprocessor/tabular/utils.py:48: PerformanceWarning: DataFrame is highly fragmented.  This is usually the result of calling `frame.insert` many times, which has poor performance.  Consider joining all columns at once using pd.concat(axis=1) instead. To get a de-fragmented frame, use `newframe = frame.copy()`\n",
      "  df[name + '_gradient'] = df[name + '_delta'].div(df[name + '_timediff'])\n",
      "/roapps/robopt/gpu/m195381/ro_codebase/preprocessor/tabular/utils.py:25: PerformanceWarning: DataFrame is highly fragmented.  This is usually the result of calling `frame.insert` many times, which has poor performance.  Consider joining all columns at once using pd.concat(axis=1) instead. To get a de-fragmented frame, use `newframe = frame.copy()`\n",
      "  df[name] = (deltaT / pd.Timedelta(days=1)).round()\n",
      "/roapps/robopt/gpu/m195381/ro_codebase/preprocessor/tabular/utils.py:47: PerformanceWarning: DataFrame is highly fragmented.  This is usually the result of calling `frame.insert` many times, which has poor performance.  Consider joining all columns at once using pd.concat(axis=1) instead. To get a de-fragmented frame, use `newframe = frame.copy()`\n",
      "  df[name + '_delta'] = (df[end_value] - df[start_value]).astype(float)\n",
      "/roapps/robopt/gpu/m195381/ro_codebase/preprocessor/tabular/utils.py:48: PerformanceWarning: DataFrame is highly fragmented.  This is usually the result of calling `frame.insert` many times, which has poor performance.  Consider joining all columns at once using pd.concat(axis=1) instead. To get a de-fragmented frame, use `newframe = frame.copy()`\n",
      "  df[name + '_gradient'] = df[name + '_delta'].div(df[name + '_timediff'])\n"
     ]
    }
   ],
   "source": [
    "psa_dataloader = data_loader.PSAScannerDataLoader(_RAWDATA_FILE)\n",
    "psa_dataloader.data_preprocessing()"
   ]
  },
  {
   "cell_type": "code",
   "execution_count": 74,
   "metadata": {},
   "outputs": [
    {
     "data": {
      "text/plain": [
       "AnonymizedID                   Anon1407\n",
       "rtstartdate         2022-09-27 00:00:00\n",
       "date_after_rt_t0    2022-09-27 00:00:00\n",
       "psa_t0                              6.3\n",
       "time_after_rt_t1                  133.0\n",
       "psa_t1                              0.0\n",
       "psa_t1_timediff                   133.0\n",
       "psa_t1_delta                       -6.3\n",
       "psa_t1_gradient               -0.047368\n",
       "time_after_rt_t2                    NaN\n",
       "psa_t2                              NaN\n",
       "Name: 1406, dtype: object"
      ]
     },
     "execution_count": 74,
     "metadata": {},
     "output_type": "execute_result"
    }
   ],
   "source": [
    "psa_dataloader.preprocessor.data.loc[1406, ['AnonymizedID', 'rtstartdate', 'date_after_rt_t0', 'psa_t0', \n",
    "                                            'time_after_rt_t1', 'psa_t1', 'psa_t1_timediff', 'psa_t1_delta', 'psa_t1_gradient',\n",
    "                                            'time_after_rt_t2', 'psa_t2']]\n",
    "# psa_dataloader.preprocessor.data.columns"
   ]
  },
  {
   "cell_type": "code",
   "execution_count": 41,
   "metadata": {},
   "outputs": [],
   "source": [
    "import pandas as pd\n",
    "data = {'Name': ['Ankit', 'Amit',\n",
    "                 'Aishwarya', 'Priyanka'],\n",
    "        'Age': [21, 19, 20, 18],\n",
    "        'Stream': ['Math', 'Commerce',\n",
    "                   'Arts', 'Biology'],\n",
    "        'Percentage': [88, 92, 95, 70]}\n",
    "df = pd.DataFrame(data, columns=['Name', 'Age',\n",
    "                                 'Stream', \n",
    "                                 'Percentage'])"
   ]
  },
  {
   "cell_type": "code",
   "execution_count": 42,
   "metadata": {},
   "outputs": [
    {
     "data": {
      "text/plain": [
       "'Amit'"
      ]
     },
     "execution_count": 42,
     "metadata": {},
     "output_type": "execute_result"
    }
   ],
   "source": [
    "df.loc[1, 'Name']"
   ]
  },
  {
   "cell_type": "code",
   "execution_count": null,
   "metadata": {},
   "outputs": [],
   "source": []
  }
 ],
 "metadata": {
  "kernelspec": {
   "display_name": "ml_Env_v02",
   "language": "python",
   "name": "python3"
  },
  "language_info": {
   "codemirror_mode": {
    "name": "ipython",
    "version": 3
   },
   "file_extension": ".py",
   "mimetype": "text/x-python",
   "name": "python",
   "nbconvert_exporter": "python",
   "pygments_lexer": "ipython3",
   "version": "3.10.10"
  },
  "orig_nbformat": 4
 },
 "nbformat": 4,
 "nbformat_minor": 2
}
