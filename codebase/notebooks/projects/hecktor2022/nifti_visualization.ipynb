{
 "cells": [
  {
   "cell_type": "code",
   "execution_count": null,
   "metadata": {},
   "outputs": [],
   "source": [
    "from etils import epath\n",
    "import nibabel as nib\n",
    "from matplotlib import pyplot as plt\n",
    "import torch\n",
    "\n",
    "from projects.hecktor2022 import terminology as term\n",
    "from projects.hecktor2022 import preprocessor\n",
    "import codebase_settings as cbs\n",
    "\n",
    "%load_ext autoreload\n",
    "%autoreload 2"
   ]
  },
  {
   "cell_type": "code",
   "execution_count": null,
   "metadata": {},
   "outputs": [],
   "source": [
    "data_folder = epath.Path(str(cbs.DATA_PATH / 'hecktor2022'))\n",
    "hecktor_processor = preprocessor.HecktorProcessor(data_folder)"
   ]
  },
  {
   "cell_type": "code",
   "execution_count": null,
   "metadata": {},
   "outputs": [],
   "source": [
    "patients = hecktor_processor.get_patient_lists(term.Phase.TRAIN)"
   ]
  },
  {
   "cell_type": "code",
   "execution_count": null,
   "metadata": {},
   "outputs": [],
   "source": [
    "hecktor_processor.batch_process_patients(term.Phase.TRAIN)"
   ]
  },
  {
   "cell_type": "code",
   "execution_count": null,
   "metadata": {},
   "outputs": [],
   "source": [
    "# patient = 'CHUM-002'\n",
    "patient = 'MDA-048'\n",
    "ct = nib.load(train_image_op.file_op.locate_image(patient + '__CT'))\n",
    "pet = nib.load(train_image_op.file_op.locate_image(patient + '__PT'))\n",
    "label = nib.load(train_label_op.file_op.locate_image(patient))\n",
    "\n",
    "imgs = [img.get_fdata() for img in [ct, pet, label]]\n",
    "print(f'Image shapes: ct {imgs[0].shape}, pet {imgs[1].shape}, label {imgs[2].shape}')\n",
    "scaler = [1, 1, 1]  # scale  masks for better visualization"
   ]
  },
  {
   "cell_type": "code",
   "execution_count": null,
   "metadata": {},
   "outputs": [],
   "source": [
    "ct.header.get_zooms()"
   ]
  },
  {
   "cell_type": "code",
   "execution_count": null,
   "metadata": {},
   "outputs": [],
   "source": [
    "resampled_ct = train_image_op.resample(ct, pet.affine, (128, 128, 91))\n",
    "resampled_ct.affine"
   ]
  },
  {
   "cell_type": "code",
   "execution_count": null,
   "metadata": {},
   "outputs": [],
   "source": [
    "print(ct.affine)\n",
    "print(resampled_ct.affine)\n",
    "print(pet.affine)"
   ]
  },
  {
   "cell_type": "code",
   "execution_count": null,
   "metadata": {},
   "outputs": [],
   "source": [
    "# Don't run this line. 3D image with 512 x 512 size will take for ever in this approach\n",
    "viewer = view_3d.Viewer3D()\n",
    "viewer.visualize_multi_volumes([input_data[0, :, :].numpy()])"
   ]
  },
  {
   "cell_type": "code",
   "execution_count": null,
   "metadata": {},
   "outputs": [],
   "source": [
    "nslice = 40\n",
    "\n",
    "resampled_img = resampled_ct.get_fdata()\n",
    "plt.imshow(resampled_img[:, :, nslice])\n",
    "plt.imshow(imgs[1][:, :, nslice], alpha=0.8)"
   ]
  },
  {
   "cell_type": "code",
   "execution_count": null,
   "metadata": {},
   "outputs": [],
   "source": [
    "from pathlib import Path"
   ]
  },
  {
   "cell_type": "code",
   "execution_count": null,
   "metadata": {},
   "outputs": [],
   "source": [
    "a_file = Path('/mnt/cds/chum-002.nii.gz')\n",
    "a_file.stem.split('.')[0]"
   ]
  },
  {
   "cell_type": "code",
   "execution_count": null,
   "metadata": {},
   "outputs": [],
   "source": [
    "list1 = [2]\n",
    "list2 = [3]\n",
    "list1+list2"
   ]
  },
  {
   "cell_type": "code",
   "execution_count": null,
   "metadata": {},
   "outputs": [],
   "source": [
    "from projects.hecktor2022 import preprocessor\n",
    "from projects.hecktor2022 import terminology as term"
   ]
  },
  {
   "cell_type": "code",
   "execution_count": null,
   "metadata": {},
   "outputs": [],
   "source": [
    "data_path = cbs.DATA_PATH / 'HECKTOR2022'\n",
    "processor = preprocessor.HecktorProcessor(data_path)"
   ]
  },
  {
   "cell_type": "code",
   "execution_count": null,
   "metadata": {},
   "outputs": [],
   "source": [
    "input_data, label_data = processor.process_a_patient(phase=term.Phase.TRAIN, patient='CHUM-001')"
   ]
  },
  {
   "cell_type": "code",
   "execution_count": null,
   "metadata": {},
   "outputs": [],
   "source": [
    "label_data.shape"
   ]
  },
  {
   "cell_type": "code",
   "execution_count": null,
   "metadata": {},
   "outputs": [],
   "source": [
    "nslice = 40\n",
    "\n",
    "plt.imshow(input_data[0, :, :, nslice])\n",
    "plt.imshow(input_data[1, :, :, nslice], alpha=0.8)"
   ]
  },
  {
   "cell_type": "code",
   "execution_count": null,
   "metadata": {},
   "outputs": [],
   "source": [
    "import csv\n",
    "file_path = epath.Path('/rodata/mnradonc_dev/m195381/data/HECKTOR2022')\n",
    "file_name = 'hecktor2022_patients_in_valid.csv'\n",
    "with open(file_path / file_name) as f:\n",
    "    patients = list(csv.reader(f, delimiter=','))"
   ]
  },
  {
   "cell_type": "code",
   "execution_count": null,
   "metadata": {},
   "outputs": [],
   "source": [
    "x = torch.Tensor([-1, 1, 2])"
   ]
  },
  {
   "cell_type": "code",
   "execution_count": null,
   "metadata": {},
   "outputs": [],
   "source": [
    "x"
   ]
  },
  {
   "cell_type": "code",
   "execution_count": null,
   "metadata": {},
   "outputs": [],
   "source": [
    "from enum import Enum\n",
    "\n",
    "class Color(Enum):\n",
    "    RED = 1\n",
    "    GREEN = 2\n",
    "    BLUE = 3\n",
    "\n",
    "# Iterate through values using list()\n",
    "for color in list(Color):\n",
    "    print(color.value)"
   ]
  },
  {
   "cell_type": "code",
   "execution_count": null,
   "metadata": {},
   "outputs": [],
   "source": []
  }
 ],
 "metadata": {
  "kernelspec": {
   "display_name": "ml_Env_v02",
   "language": "python",
   "name": "python3"
  },
  "language_info": {
   "codemirror_mode": {
    "name": "ipython",
    "version": 3
   },
   "file_extension": ".py",
   "mimetype": "text/x-python",
   "name": "python",
   "nbconvert_exporter": "python",
   "pygments_lexer": "ipython3",
   "version": "3.10.11"
  },
  "orig_nbformat": 4
 },
 "nbformat": 4,
 "nbformat_minor": 2
}
